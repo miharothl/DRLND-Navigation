{
 "cells": [
  {
   "cell_type": "markdown",
   "metadata": {},
   "source": [
    "# Navigation Project"
   ]
  },
  {
   "cell_type": "code",
   "execution_count": 1,
   "metadata": {},
   "outputs": [],
   "source": [
    "%matplotlib inline\n",
    "from drl import logging\n",
    "from drl.experiment.analyser import Analyzer\n",
    "from drl.experiment.config import Config\n",
    "from drl.experiment.experiment import Experiment\n",
    "from drl.experiment.explorer import Explorer\n",
    "from drl.logging import init_logging, set_logging_level, transform_verbose_count_to_logging_level\n",
    "import logging\n",
    "import logging.config"
   ]
  },
  {
   "cell_type": "code",
   "execution_count": 2,
   "metadata": {},
   "outputs": [],
   "source": [
    "init_logging(logging.INFO)"
   ]
  },
  {
   "cell_type": "markdown",
   "metadata": {},
   "source": [
    "## Training Parameters"
   ]
  },
  {
   "cell_type": "code",
   "execution_count": 3,
   "metadata": {},
   "outputs": [],
   "source": [
    "config = Config()\n",
    "config.set_current_env(\"banana\")"
   ]
  },
  {
   "cell_type": "markdown",
   "metadata": {},
   "source": [
    "### Agent"
   ]
  },
  {
   "cell_type": "code",
   "execution_count": 4,
   "metadata": {},
   "outputs": [
    {
     "name": "stdout",
     "output_type": "stream",
     "text": [
      "Action Size: 4\n",
      "State Size:  37\n"
     ]
    }
   ],
   "source": [
    "cfg = config.get_current_env_config()\n",
    "\n",
    "print(\"Action Size: {}\".format(cfg['agent']['action_size']))\n",
    "print(\"State Size:  {}\".format(cfg['agent']['state_size']))"
   ]
  },
  {
   "cell_type": "markdown",
   "metadata": {},
   "source": [
    "### Hyper Parameters \n",
    "\n",
    "#### Epoch Configuration"
   ]
  },
  {
   "cell_type": "code",
   "execution_count": 5,
   "metadata": {},
   "outputs": [
    {
     "name": "stdout",
     "output_type": "stream",
     "text": [
      "Max Steps:            600000\n",
      "Max Episode Steps:    300\n",
      "Evaluation Frequency: 10200\n",
      "Evaluation Steps:     2100\n"
     ]
    }
   ],
   "source": [
    "print(\"Max Steps:            {}\".format(cfg['train']['max_steps']))\n",
    "print(\"Max Episode Steps:    {}\".format(cfg['train']['max_episode_steps']))\n",
    "print(\"Evaluation Frequency: {}\".format(cfg['train']['eval_frequency']))\n",
    "print(\"Evaluation Steps:     {}\".format(cfg['train']['eval_steps']))"
   ]
  },
  {
   "cell_type": "markdown",
   "metadata": {},
   "source": [
    "One Epoch contains:\n",
    "\n",
    "* number of training episodes = evaluation frequency / max episode steps\n",
    "* number of validation episoded = evaluatin steps / max episode steps"
   ]
  },
  {
   "cell_type": "code",
   "execution_count": 6,
   "metadata": {},
   "outputs": [
    {
     "name": "stdout",
     "output_type": "stream",
     "text": [
      "Number of training episodes in epoch:   34\n",
      "Number of validation episodes in epoch: 7\n"
     ]
    }
   ],
   "source": [
    "print(\"Number of training episodes in epoch:   {}\".format(int(cfg['train']['eval_frequency']/cfg['train']['max_episode_steps'])))\n",
    "print(\"Number of validation episodes in epoch: {}\".format(int(cfg['train']['eval_steps']/cfg['train']['max_episode_steps'])))"
   ]
  },
  {
   "cell_type": "code",
   "execution_count": 7,
   "metadata": {},
   "outputs": [
    {
     "name": "stdout",
     "output_type": "stream",
     "text": [
      "Epsilon:       0.995\n",
      "Batch Size:    64\n",
      "Update Every:  4\n",
      "Learning Rate: 0.0001\n",
      "Tau:           0.001\n",
      "Gamma:         0.99\n"
     ]
    }
   ],
   "source": [
    "print(\"Epsilon:       {}\".format(cfg['train']['epsilon']))\n",
    "print(\"Batch Size:    {}\".format(cfg['train']['batch_size']))\n",
    "print(\"Update Every:  {}\".format(cfg['train']['update_every']))\n",
    "print(\"Learning Rate: {}\".format(cfg['train']['learning_rate']))\n",
    "print(\"Tau:           {}\".format(cfg['train']['tau']))\n",
    "print(\"Gamma:         {}\".format(cfg['train']['gamma']))"
   ]
  },
  {
   "cell_type": "markdown",
   "metadata": {},
   "source": [
    "#### Neural Network Configuration"
   ]
  },
  {
   "cell_type": "code",
   "execution_count": 8,
   "metadata": {},
   "outputs": [
    {
     "name": "stdout",
     "output_type": "stream",
     "text": [
      "Hidden Layers Units: [64, 64]\n",
      "Use Dueling:         False\n",
      "Use Double:          True\n"
     ]
    }
   ],
   "source": [
    "print(\"Hidden Layers Units: {}\".format(cfg['neural_network']['hidden_layers']))\n",
    "print(\"Use Dueling:         {}\".format(cfg['neural_network']['dueling']))\n",
    "print(\"Use Double:          {}\".format(cfg['neural_network']['double']))"
   ]
  },
  {
   "cell_type": "markdown",
   "metadata": {},
   "source": [
    "#### Replay Memory"
   ]
  },
  {
   "cell_type": "code",
   "execution_count": 9,
   "metadata": {},
   "outputs": [
    {
     "name": "stdout",
     "output_type": "stream",
     "text": [
      "Buffer Size:              100000\n",
      "Use Prioritized Replay:   True\n",
      "Prioritized Replay Alpha: 0.6\n",
      "Prioritized Replay Beta0: 0.4\n",
      "Prioritized Replay Eps:   1e-06\n"
     ]
    }
   ],
   "source": [
    "print(\"Buffer Size:              {}\".format(cfg['replay_memory']['buffer_size']))\n",
    "print(\"Use Prioritized Replay:   {}\".format(cfg['replay_memory']['prioritized_replay']))\n",
    "print(\"Prioritized Replay Alpha: {}\".format(cfg['replay_memory']['prioritized_replay_alpha']))\n",
    "print(\"Prioritized Replay Beta0: {}\".format(cfg['replay_memory']['prioritized_replay_beta0']))\n",
    "print(\"Prioritized Replay Eps:   {}\".format(cfg['replay_memory']['prioritized_replay_eps']))"
   ]
  },
  {
   "cell_type": "markdown",
   "metadata": {},
   "source": [
    "## Training"
   ]
  },
  {
   "cell_type": "code",
   "execution_count": 10,
   "metadata": {},
   "outputs": [],
   "source": [
    "experiment = Experiment(config)"
   ]
  },
  {
   "cell_type": "code",
   "execution_count": null,
   "metadata": {},
   "outputs": [
    {
     "name": "stderr",
     "output_type": "stream",
     "text": [
      "INFO:unityagents:\n",
      "'Academy' started successfully!\n",
      "Unity Academy name: Academy\n",
      "        Number of Brains: 1\n",
      "        Number of External Brains : 1\n",
      "        Lesson number : 0\n",
      "        Reset Parameters :\n",
      "\t\t\n",
      "Unity brain name: BananaBrain\n",
      "        Number of Visual Observations (per agent): 0\n",
      "        Vector Observation space type: continuous\n",
      "        Vector Observation space size (per agent): 37\n",
      "        Number of stacked Vector Observation: 1\n",
      "        Vector Action space type: discrete\n",
      "        Vector Action space size (per agent): 4\n",
      "        Vector Action descriptions: , , , \n"
     ]
    },
    {
     "name": "stdout",
     "output_type": "stream",
     "text": [
      "2020-08-12 06:05:40,416 - unityagents - INFO - \n",
      "'Academy' started successfully!\n",
      "Unity Academy name: Academy\n",
      "        Number of Brains: 1\n",
      "        Number of External Brains : 1\n",
      "        Lesson number : 0\n",
      "        Reset Parameters :\n",
      "\t\t\n",
      "Unity brain name: BananaBrain\n",
      "        Number of Visual Observations (per agent): 0\n",
      "        Vector Observation space type: continuous\n",
      "        Vector Observation space size (per agent): 37\n",
      "        Number of stacked Vector Observation: 1\n",
      "        Vector Action space type: discrete\n",
      "        Vector Action space size (per agent): 4\n",
      "        Vector Action descriptions: , , , \n"
     ]
    },
    {
     "name": "stderr",
     "output_type": "stream",
     "text": [
      "INFO:root:Epoch 0\t Score: 0.18\t Val Score: 0.83\tEpsilon: 0.84\n"
     ]
    },
    {
     "name": "stdout",
     "output_type": "stream",
     "text": [
      "2020-08-12 06:06:53,218 - root - INFO - Epoch 0\t Score: 0.18\t Val Score: 0.83\tEpsilon: 0.84\n"
     ]
    },
    {
     "name": "stderr",
     "output_type": "stream",
     "text": [
      "INFO:root:Epoch 1\t Score: 0.54\t Val Score: 1.17\tEpsilon: 0.71\n"
     ]
    },
    {
     "name": "stdout",
     "output_type": "stream",
     "text": [
      "2020-08-12 06:08:15,364 - root - INFO - Epoch 1\t Score: 0.54\t Val Score: 1.17\tEpsilon: 0.71\n"
     ]
    },
    {
     "name": "stderr",
     "output_type": "stream",
     "text": [
      "INFO:root:Epoch 2\t Score: 0.76\t Val Score: 3.33\tEpsilon: 0.60\n"
     ]
    },
    {
     "name": "stdout",
     "output_type": "stream",
     "text": [
      "2020-08-12 06:09:37,594 - root - INFO - Epoch 2\t Score: 0.76\t Val Score: 3.33\tEpsilon: 0.60\n"
     ]
    },
    {
     "name": "stderr",
     "output_type": "stream",
     "text": [
      "INFO:root:Epoch 3\t Score: 1.40\t Val Score: 2.17\tEpsilon: 0.51\n"
     ]
    },
    {
     "name": "stdout",
     "output_type": "stream",
     "text": [
      "2020-08-12 06:11:00,002 - root - INFO - Epoch 3\t Score: 1.40\t Val Score: 2.17\tEpsilon: 0.51\n"
     ]
    },
    {
     "name": "stderr",
     "output_type": "stream",
     "text": [
      "INFO:root:Epoch 4\t Score: 2.17\t Val Score: 3.17\tEpsilon: 0.43\n"
     ]
    },
    {
     "name": "stdout",
     "output_type": "stream",
     "text": [
      "2020-08-12 06:12:23,135 - root - INFO - Epoch 4\t Score: 2.17\t Val Score: 3.17\tEpsilon: 0.43\n"
     ]
    },
    {
     "name": "stderr",
     "output_type": "stream",
     "text": [
      "INFO:root:Epoch 5\t Score: 3.03\t Val Score: 6.17\tEpsilon: 0.36\n"
     ]
    },
    {
     "name": "stdout",
     "output_type": "stream",
     "text": [
      "2020-08-12 06:13:45,299 - root - INFO - Epoch 5\t Score: 3.03\t Val Score: 6.17\tEpsilon: 0.36\n"
     ]
    },
    {
     "name": "stderr",
     "output_type": "stream",
     "text": [
      "INFO:root:Epoch 6\t Score: 4.19\t Val Score: 4.83\tEpsilon: 0.30\n"
     ]
    },
    {
     "name": "stdout",
     "output_type": "stream",
     "text": [
      "2020-08-12 06:15:07,407 - root - INFO - Epoch 6\t Score: 4.19\t Val Score: 4.83\tEpsilon: 0.30\n"
     ]
    },
    {
     "name": "stderr",
     "output_type": "stream",
     "text": [
      "INFO:root:Epoch 7\t Score: 4.59\t Val Score: 4.50\tEpsilon: 0.26\n"
     ]
    },
    {
     "name": "stdout",
     "output_type": "stream",
     "text": [
      "2020-08-12 06:16:29,905 - root - INFO - Epoch 7\t Score: 4.59\t Val Score: 4.50\tEpsilon: 0.26\n"
     ]
    },
    {
     "name": "stderr",
     "output_type": "stream",
     "text": [
      "INFO:root:Epoch 8\t Score: 5.04\t Val Score: 6.50\tEpsilon: 0.22\n"
     ]
    },
    {
     "name": "stdout",
     "output_type": "stream",
     "text": [
      "2020-08-12 06:17:56,630 - root - INFO - Epoch 8\t Score: 5.04\t Val Score: 6.50\tEpsilon: 0.22\n"
     ]
    },
    {
     "name": "stderr",
     "output_type": "stream",
     "text": [
      "INFO:root:Epoch 9\t Score: 5.40\t Val Score: 6.67\tEpsilon: 0.18\n"
     ]
    },
    {
     "name": "stdout",
     "output_type": "stream",
     "text": [
      "2020-08-12 06:19:16,342 - root - INFO - Epoch 9\t Score: 5.40\t Val Score: 6.67\tEpsilon: 0.18\n"
     ]
    },
    {
     "name": "stderr",
     "output_type": "stream",
     "text": [
      "INFO:root:Epoch 10\t Score: 6.40\t Val Score: 7.83\tEpsilon: 0.15\n"
     ]
    },
    {
     "name": "stdout",
     "output_type": "stream",
     "text": [
      "2020-08-12 06:20:37,568 - root - INFO - Epoch 10\t Score: 6.40\t Val Score: 7.83\tEpsilon: 0.15\n"
     ]
    },
    {
     "name": "stderr",
     "output_type": "stream",
     "text": [
      "INFO:root:Epoch 11\t Score: 7.16\t Val Score: 8.00\tEpsilon: 0.13\n"
     ]
    },
    {
     "name": "stdout",
     "output_type": "stream",
     "text": [
      "2020-08-12 06:21:59,734 - root - INFO - Epoch 11\t Score: 7.16\t Val Score: 8.00\tEpsilon: 0.13\n"
     ]
    },
    {
     "name": "stderr",
     "output_type": "stream",
     "text": [
      "INFO:root:Epoch 12\t Score: 8.29\t Val Score: 7.50\tEpsilon: 0.11\n"
     ]
    },
    {
     "name": "stdout",
     "output_type": "stream",
     "text": [
      "2020-08-12 06:23:21,948 - root - INFO - Epoch 12\t Score: 8.29\t Val Score: 7.50\tEpsilon: 0.11\n"
     ]
    },
    {
     "name": "stderr",
     "output_type": "stream",
     "text": [
      "INFO:root:Epoch 13\t Score: 8.78\t Val Score: 11.67\tEpsilon: 0.09\n"
     ]
    },
    {
     "name": "stdout",
     "output_type": "stream",
     "text": [
      "2020-08-12 06:24:43,340 - root - INFO - Epoch 13\t Score: 8.78\t Val Score: 11.67\tEpsilon: 0.09\n"
     ]
    },
    {
     "name": "stderr",
     "output_type": "stream",
     "text": [
      "INFO:root:Epoch 14\t Score: 9.56\t Val Score: 11.67\tEpsilon: 0.08\n"
     ]
    },
    {
     "name": "stdout",
     "output_type": "stream",
     "text": [
      "2020-08-12 06:25:52,280 - root - INFO - Epoch 14\t Score: 9.56\t Val Score: 11.67\tEpsilon: 0.08\n"
     ]
    },
    {
     "name": "stderr",
     "output_type": "stream",
     "text": [
      "INFO:root:Epoch 15\t Score: 9.87\t Val Score: 9.33\tEpsilon: 0.07\n"
     ]
    },
    {
     "name": "stdout",
     "output_type": "stream",
     "text": [
      "2020-08-12 06:26:56,418 - root - INFO - Epoch 15\t Score: 9.87\t Val Score: 9.33\tEpsilon: 0.07\n"
     ]
    },
    {
     "name": "stderr",
     "output_type": "stream",
     "text": [
      "INFO:root:Epoch 16\t Score: 10.19\t Val Score: 10.00\tEpsilon: 0.06\n"
     ]
    },
    {
     "name": "stdout",
     "output_type": "stream",
     "text": [
      "2020-08-12 06:27:34,217 - root - INFO - Epoch 16\t Score: 10.19\t Val Score: 10.00\tEpsilon: 0.06\n"
     ]
    },
    {
     "name": "stderr",
     "output_type": "stream",
     "text": [
      "INFO:root:Epoch 17\t Score: 10.44\t Val Score: 10.00\tEpsilon: 0.05\n"
     ]
    },
    {
     "name": "stdout",
     "output_type": "stream",
     "text": [
      "2020-08-12 06:28:12,231 - root - INFO - Epoch 17\t Score: 10.44\t Val Score: 10.00\tEpsilon: 0.05\n"
     ]
    },
    {
     "name": "stderr",
     "output_type": "stream",
     "text": [
      "INFO:root:Epoch 18\t Score: 10.40\t Val Score: 10.33\tEpsilon: 0.04\n"
     ]
    },
    {
     "name": "stdout",
     "output_type": "stream",
     "text": [
      "2020-08-12 06:28:49,679 - root - INFO - Epoch 18\t Score: 10.40\t Val Score: 10.33\tEpsilon: 0.04\n"
     ]
    },
    {
     "name": "stderr",
     "output_type": "stream",
     "text": [
      "INFO:root:Epoch 19\t Score: 10.30\t Val Score: 11.17\tEpsilon: 0.03\n"
     ]
    },
    {
     "name": "stdout",
     "output_type": "stream",
     "text": [
      "2020-08-12 06:29:26,834 - root - INFO - Epoch 19\t Score: 10.30\t Val Score: 11.17\tEpsilon: 0.03\n"
     ]
    },
    {
     "name": "stderr",
     "output_type": "stream",
     "text": [
      "INFO:root:Epoch 20\t Score: 10.91\t Val Score: 10.17\tEpsilon: 0.03\n"
     ]
    },
    {
     "name": "stdout",
     "output_type": "stream",
     "text": [
      "2020-08-12 06:30:06,044 - root - INFO - Epoch 20\t Score: 10.91\t Val Score: 10.17\tEpsilon: 0.03\n"
     ]
    },
    {
     "name": "stderr",
     "output_type": "stream",
     "text": [
      "INFO:root:Epoch 21\t Score: 11.20\t Val Score: 11.67\tEpsilon: 0.02\n"
     ]
    },
    {
     "name": "stdout",
     "output_type": "stream",
     "text": [
      "2020-08-12 06:30:44,415 - root - INFO - Epoch 21\t Score: 11.20\t Val Score: 11.67\tEpsilon: 0.02\n"
     ]
    },
    {
     "name": "stderr",
     "output_type": "stream",
     "text": [
      "INFO:root:Epoch 22\t Score: 11.55\t Val Score: 11.00\tEpsilon: 0.02\n"
     ]
    },
    {
     "name": "stdout",
     "output_type": "stream",
     "text": [
      "2020-08-12 06:31:22,819 - root - INFO - Epoch 22\t Score: 11.55\t Val Score: 11.00\tEpsilon: 0.02\n"
     ]
    },
    {
     "name": "stderr",
     "output_type": "stream",
     "text": [
      "INFO:root:Epoch 23\t Score: 11.73\t Val Score: 11.00\tEpsilon: 0.02\n"
     ]
    },
    {
     "name": "stdout",
     "output_type": "stream",
     "text": [
      "2020-08-12 06:32:00,442 - root - INFO - Epoch 23\t Score: 11.73\t Val Score: 11.00\tEpsilon: 0.02\n"
     ]
    },
    {
     "name": "stderr",
     "output_type": "stream",
     "text": [
      "INFO:root:Epoch 24\t Score: 12.01\t Val Score: 12.67\tEpsilon: 0.01\n"
     ]
    },
    {
     "name": "stdout",
     "output_type": "stream",
     "text": [
      "2020-08-12 06:32:39,698 - root - INFO - Epoch 24\t Score: 12.01\t Val Score: 12.67\tEpsilon: 0.01\n"
     ]
    },
    {
     "name": "stderr",
     "output_type": "stream",
     "text": [
      "INFO:root:Epoch 25\t Score: 11.99\t Val Score: 11.50\tEpsilon: 0.01\n"
     ]
    },
    {
     "name": "stdout",
     "output_type": "stream",
     "text": [
      "2020-08-12 06:33:16,687 - root - INFO - Epoch 25\t Score: 11.99\t Val Score: 11.50\tEpsilon: 0.01\n"
     ]
    },
    {
     "name": "stderr",
     "output_type": "stream",
     "text": [
      "INFO:root:Epoch 26\t Score: 11.31\t Val Score: 12.33\tEpsilon: 0.01\n"
     ]
    },
    {
     "name": "stdout",
     "output_type": "stream",
     "text": [
      "2020-08-12 06:33:54,068 - root - INFO - Epoch 26\t Score: 11.31\t Val Score: 12.33\tEpsilon: 0.01\n"
     ]
    },
    {
     "name": "stderr",
     "output_type": "stream",
     "text": [
      "INFO:root:Epoch 27\t Score: 11.16\t Val Score: 12.83\tEpsilon: 0.01\n"
     ]
    },
    {
     "name": "stdout",
     "output_type": "stream",
     "text": [
      "2020-08-12 06:34:30,248 - root - INFO - Epoch 27\t Score: 11.16\t Val Score: 12.83\tEpsilon: 0.01\n"
     ]
    },
    {
     "name": "stderr",
     "output_type": "stream",
     "text": [
      "INFO:root:Epoch 28\t Score: 11.41\t Val Score: 15.00\tEpsilon: 0.01\n"
     ]
    },
    {
     "name": "stdout",
     "output_type": "stream",
     "text": [
      "2020-08-12 06:35:07,631 - root - INFO - Epoch 28\t Score: 11.41\t Val Score: 15.00\tEpsilon: 0.01\n"
     ]
    },
    {
     "name": "stderr",
     "output_type": "stream",
     "text": [
      "INFO:root:Epoch 29\t Score: 11.93\t Val Score: 11.50\tEpsilon: 0.01\n"
     ]
    },
    {
     "name": "stdout",
     "output_type": "stream",
     "text": [
      "2020-08-12 06:35:45,702 - root - INFO - Epoch 29\t Score: 11.93\t Val Score: 11.50\tEpsilon: 0.01\n"
     ]
    },
    {
     "name": "stderr",
     "output_type": "stream",
     "text": [
      "INFO:root:Epoch 30\t Score: 12.44\t Val Score: 11.83\tEpsilon: 0.01\n"
     ]
    },
    {
     "name": "stdout",
     "output_type": "stream",
     "text": [
      "2020-08-12 06:36:24,425 - root - INFO - Epoch 30\t Score: 12.44\t Val Score: 11.83\tEpsilon: 0.01\n"
     ]
    },
    {
     "name": "stderr",
     "output_type": "stream",
     "text": [
      "INFO:root:Epoch 31\t Score: 12.64\t Val Score: 14.00\tEpsilon: 0.01\n"
     ]
    },
    {
     "name": "stdout",
     "output_type": "stream",
     "text": [
      "2020-08-12 06:37:04,891 - root - INFO - Epoch 31\t Score: 12.64\t Val Score: 14.00\tEpsilon: 0.01\n"
     ]
    }
   ],
   "source": [
    "scores = experiment.train()"
   ]
  },
  {
   "cell_type": "markdown",
   "metadata": {},
   "source": [
    "## Analasys"
   ]
  },
  {
   "cell_type": "code",
   "execution_count": 41,
   "metadata": {},
   "outputs": [
    {
     "name": "stdout",
     "output_type": "stream",
     "text": [
      "Session ID: banana-20200811T1843\n"
     ]
    }
   ],
   "source": [
    "session_id = experiment.get_session_id()\n",
    "print(\"Session ID: {}\".format(session_id))"
   ]
  },
  {
   "cell_type": "code",
   "execution_count": 37,
   "metadata": {},
   "outputs": [],
   "source": [
    "analyzer = Analyzer(config, session_id)"
   ]
  },
  {
   "cell_type": "code",
   "execution_count": 35,
   "metadata": {},
   "outputs": [],
   "source": [
    "experiments = [\n",
    "    '_experiments/train/banana-20200811T1623', # double  - eps 0.995 - hidden_layers 64,64   - num_frames 4\n",
    "]"
   ]
  },
  {
   "cell_type": "code",
   "execution_count": 45,
   "metadata": {},
   "outputs": [
    {
     "data": {
      "image/png": "[encoded data removed]",
      "text/plain": [
       "<Figure size 432x288 with 1 Axes>"
      ]
     },
     "metadata": {
      "needs_background": "light"
     },
     "output_type": "display_data"
    },
    {
     "data": {
      "image/png": "[encoded data removed]",
      "text/plain": [
       "<Figure size 432x288 with 1 Axes>"
      ]
     },
     "metadata": {
      "needs_background": "light"
     },
     "output_type": "display_data"
    }
   ],
   "source": [
    "analyzer.compare_train_epoch_cols(experiments, 'avg_score', True)\n",
    "analyzer.compare_train_epoch_cols(experiments, 'epsilon', True)"
   ]
  },
  {
   "cell_type": "code",
   "execution_count": 33,
   "metadata": {},
   "outputs": [
    {
     "name": "stdout",
     "output_type": "stream",
     "text": [
      "banana_banana-20200811T1623_0_-0.12_0.17_0.84.pth\n",
      "banana_banana-20200811T1623_10_6.61_7.83_0.15.pth\n",
      "banana_banana-20200811T1623_11_7.64_6.00_0.13.pth\n",
      "banana_banana-20200811T1623_12_8.64_10.33_0.11.pth\n",
      "banana_banana-20200811T1623_13_9.34_7.83_0.09.pth\n",
      "banana_banana-20200811T1623_14_9.59_10.00_0.08.pth\n",
      "banana_banana-20200811T1623_15_10.01_13.33_0.07.pth\n",
      "banana_banana-20200811T1623_16_10.56_8.67_0.06.pth\n",
      "banana_banana-20200811T1623_17_11.01_12.17_0.05.pth\n",
      "banana_banana-20200811T1623_18_10.96_13.33_0.04.pth\n",
      "banana_banana-20200811T1623_19_11.43_12.83_0.03.pth\n",
      "banana_banana-20200811T1623_1_0.18_0.00_0.71.pth\n",
      "banana_banana-20200811T1623_20_12.14_15.67_0.03.pth\n",
      "banana_banana-20200811T1623_21_12.63_13.17_0.02.pth\n",
      "banana_banana-20200811T1623_22_13.03_13.33_0.02.pth\n",
      "banana_banana-20200811T1623_23_13.20_13.67_0.02.pth\n",
      "banana_banana-20200811T1623_24_13.12_13.17_0.01.pth\n",
      "banana_banana-20200811T1623_25_13.30_12.83_0.01.pth\n",
      "banana_banana-20200811T1623_26_13.08_14.17_0.01.pth\n",
      "banana_banana-20200811T1623_27_13.08_13.00_0.01.pth\n",
      "banana_banana-20200811T1623_28_13.29_12.33_0.01.pth\n",
      "banana_banana-20200811T1623_29_13.45_13.33_0.01.pth\n",
      "banana_banana-20200811T1623_2_0.39_1.00_0.60.pth\n",
      "banana_banana-20200811T1623_30_14.37_14.00_0.01.pth\n",
      "banana_banana-20200811T1623_31_14.36_13.83_0.01.pth\n",
      "banana_banana-20200811T1623_32_14.28_16.17_0.01.pth\n",
      "banana_banana-20200811T1623_33_14.20_14.00_0.01.pth\n",
      "banana_banana-20200811T1623_34_14.11_8.50_0.01.pth\n",
      "banana_banana-20200811T1623_35_13.92_15.83_0.01.pth\n",
      "banana_banana-20200811T1623_36_13.86_14.00_0.01.pth\n",
      "banana_banana-20200811T1623_37_13.88_13.50_0.01.pth\n",
      "banana_banana-20200811T1623_38_14.66_15.83_0.01.pth\n",
      "banana_banana-20200811T1623_39_15.07_15.33_0.01.pth\n",
      "banana_banana-20200811T1623_3_0.99_2.17_0.51.pth\n",
      "banana_banana-20200811T1623_40_15.60_10.83_0.01.pth\n",
      "banana_banana-20200811T1623_41_15.28_15.83_0.01.pth\n",
      "banana_banana-20200811T1623_42_14.75_18.67_0.01.pth\n",
      "banana_banana-20200811T1623_43_14.69_11.33_0.01.pth\n",
      "banana_banana-20200811T1623_44_14.79_14.83_0.01.pth\n",
      "banana_banana-20200811T1623_45_15.56_8.50_0.01.pth\n",
      "banana_banana-20200811T1623_46_15.63_16.67_0.01.pth\n",
      "banana_banana-20200811T1623_47_15.98_17.17_0.01.pth\n",
      "banana_banana-20200811T1623_48_16.10_16.83_0.01.pth\n",
      "banana_banana-20200811T1623_49_16.23_14.67_0.01.pth\n",
      "banana_banana-20200811T1623_4_1.88_4.00_0.43.pth\n",
      "banana_banana-20200811T1623_50_16.18_18.17_0.01.pth\n",
      "banana_banana-20200811T1623_51_15.77_15.50_0.01.pth\n",
      "banana_banana-20200811T1623_52_15.51_15.83_0.01.pth\n",
      "banana_banana-20200811T1623_53_15.62_13.17_0.01.pth\n",
      "banana_banana-20200811T1623_54_15.80_18.83_0.01.pth\n",
      "banana_banana-20200811T1623_55_16.60_17.50_0.01.pth\n",
      "banana_banana-20200811T1623_56_16.64_19.17_0.01.pth\n",
      "banana_banana-20200811T1623_57_17.32_15.83_0.01.pth\n",
      "banana_banana-20200811T1623_58_17.28_17.17_0.01.pth\n",
      "banana_banana-20200811T1623_5_2.89_2.17_0.36.pth\n",
      "banana_banana-20200811T1623_6_4.28_6.00_0.30.pth\n",
      "banana_banana-20200811T1623_7_5.06_5.17_0.26.pth\n",
      "banana_banana-20200811T1623_8_5.72_8.00_0.22.pth\n",
      "banana_banana-20200811T1623_9_6.03_6.17_0.18.pth\n",
      "config.json\n",
      "episode-log.csv\n",
      "epoch-log.csv\n"
     ]
    }
   ],
   "source": [
    "!ls _experiments/train/banana-20200811T1623"
   ]
  },
  {
   "cell_type": "markdown",
   "metadata": {},
   "source": [
    "## Play With a Trained Agent"
   ]
  },
  {
   "cell_type": "code",
   "execution_count": 48,
   "metadata": {},
   "outputs": [
    {
     "name": "stderr",
     "output_type": "stream",
     "text": [
      "INFO:unityagents:\n",
      "'Academy' started successfully!\n",
      "Unity Academy name: Academy\n",
      "        Number of Brains: 1\n",
      "        Number of External Brains : 1\n",
      "        Lesson number : 0\n",
      "        Reset Parameters :\n",
      "\t\t\n",
      "Unity brain name: BananaBrain\n",
      "        Number of Visual Observations (per agent): 0\n",
      "        Vector Observation space type: continuous\n",
      "        Vector Observation space size (per agent): 37\n",
      "        Number of stacked Vector Observation: 1\n",
      "        Vector Action space type: discrete\n",
      "        Vector Action space size (per agent): 4\n",
      "        Vector Action descriptions: , , , \n"
     ]
    },
    {
     "name": "stdout",
     "output_type": "stream",
     "text": [
      "2020-08-12 06:01:56,405 - unityagents - INFO - \n",
      "'Academy' started successfully!\n",
      "Unity Academy name: Academy\n",
      "        Number of Brains: 1\n",
      "        Number of External Brains : 1\n",
      "        Lesson number : 0\n",
      "        Reset Parameters :\n",
      "\t\t\n",
      "Unity brain name: BananaBrain\n",
      "        Number of Visual Observations (per agent): 0\n",
      "        Vector Observation space type: continuous\n",
      "        Vector Observation space size (per agent): 37\n",
      "        Number of stacked Vector Observation: 1\n",
      "        Vector Action space type: discrete\n",
      "        Vector Action space size (per agent): 4\n",
      "        Vector Action descriptions: , , , \n"
     ]
    }
   ],
   "source": [
    "scores, mean = experiment.play(\n",
    "    mode='train', # human, train\n",
    "    model='_experiments/train/banana-20200810T0725/banana_banana-20200810T0725_58_15.97_16.17_0.01.pth',\n",
    "    num_episodes=100)"
   ]
  },
  {
   "cell_type": "code",
   "execution_count": 49,
   "metadata": {},
   "outputs": [
    {
     "name": "stdout",
     "output_type": "stream",
     "text": [
      "Average score over 100 episodes is 16.84\n"
     ]
    }
   ],
   "source": [
    "print(\"Average score over {} episodes is {}\".format(len(scores), mean))"
   ]
  }
 ],
 "metadata": {
  "kernelspec": {
   "display_name": "drlnd3",
   "language": "python",
   "name": "drlnd3"
  },
  "language_info": {
   "codemirror_mode": {
    "name": "ipython",
    "version": 3
   },
   "file_extension": ".py",
   "mimetype": "text/x-python",
   "name": "python",
   "nbconvert_exporter": "python",
   "pygments_lexer": "ipython3",
   "version": "3.6.10"
  }
 },
 "nbformat": 4,
 "nbformat_minor": 4
}
