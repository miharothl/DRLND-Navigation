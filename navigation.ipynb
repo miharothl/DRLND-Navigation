{
 "cells": [
  {
   "cell_type": "markdown",
   "metadata": {},
   "source": [
    "# Navigation Project"
   ]
  },
  {
   "cell_type": "code",
   "execution_count": 1,
   "metadata": {},
   "outputs": [],
   "source": [
    "%matplotlib inline\n",
    "from drl import logging\n",
    "from drl.experiment.analyser import Analyzer\n",
    "from drl.experiment.config import Config\n",
    "from drl.experiment.experiment import Experiment\n",
    "from drl.experiment.explorer import Explorer\n",
    "from drl.logging import init_logging, set_logging_level, transform_verbose_count_to_logging_level\n",
    "import logging\n",
    "import logging.config"
   ]
  },
  {
   "cell_type": "code",
   "execution_count": 2,
   "metadata": {},
   "outputs": [],
   "source": [
    "init_logging(logging.INFO)"
   ]
  },
  {
   "cell_type": "markdown",
   "metadata": {},
   "source": [
    "## Training Parameters"
   ]
  },
  {
   "cell_type": "code",
   "execution_count": 3,
   "metadata": {},
   "outputs": [],
   "source": [
    "config = Config()\n",
    "config.set_current_env(\"banana\")"
   ]
  },
  {
   "cell_type": "markdown",
   "metadata": {},
   "source": [
    "### Agent"
   ]
  },
  {
   "cell_type": "code",
   "execution_count": 4,
   "metadata": {},
   "outputs": [
    {
     "name": "stdout",
     "output_type": "stream",
     "text": [
      "Action Size: 4\n",
      "State Size:  37\n"
     ]
    }
   ],
   "source": [
    "cfg = config.get_current_env_config()\n",
    "\n",
    "print(\"Action Size: {}\".format(cfg['agent']['action_size']))\n",
    "print(\"State Size:  {}\".format(cfg['agent']['state_size']))"
   ]
  },
  {
   "cell_type": "markdown",
   "metadata": {},
   "source": [
    "### Hyper Parameters \n",
    "\n",
    "#### Epoch Configuration"
   ]
  },
  {
   "cell_type": "code",
   "execution_count": 5,
   "metadata": {},
   "outputs": [
    {
     "name": "stdout",
     "output_type": "stream",
     "text": [
      "Max Steps:            600000\n",
      "Max Episode Steps:    300\n",
      "Evaluation Frequency: 10200\n",
      "Evaluation Steps:     2100\n"
     ]
    }
   ],
   "source": [
    "print(\"Max Steps:            {}\".format(cfg['train']['max_steps']))\n",
    "print(\"Max Episode Steps:    {}\".format(cfg['train']['max_episode_steps']))\n",
    "print(\"Evaluation Frequency: {}\".format(cfg['train']['eval_frequency']))\n",
    "print(\"Evaluation Steps:     {}\".format(cfg['train']['eval_steps']))"
   ]
  },
  {
   "cell_type": "markdown",
   "metadata": {},
   "source": [
    "One Epoch contains:\n",
    "\n",
    "* number of training episodes = evaluation frequency / max episode steps\n",
    "* number of validation episoded = evaluatin steps / max episode steps"
   ]
  },
  {
   "cell_type": "code",
   "execution_count": 6,
   "metadata": {},
   "outputs": [
    {
     "name": "stdout",
     "output_type": "stream",
     "text": [
      "Number of training episodes in epoch:   34\n",
      "Number of validation episodes in epoch: 7\n"
     ]
    }
   ],
   "source": [
    "print(\"Number of training episodes in epoch:   {}\".format(int(cfg['train']['eval_frequency']/cfg['train']['max_episode_steps'])))\n",
    "print(\"Number of validation episodes in epoch: {}\".format(int(cfg['train']['eval_steps']/cfg['train']['max_episode_steps'])))"
   ]
  },
  {
   "cell_type": "code",
   "execution_count": 7,
   "metadata": {},
   "outputs": [
    {
     "name": "stdout",
     "output_type": "stream",
     "text": [
      "Epsilon:       0.995\n",
      "Batch Size:    64\n",
      "Update Every:  4\n",
      "Learning Rate: 0.0001\n",
      "Tau:           0.001\n",
      "Gamma:         0.99\n"
     ]
    }
   ],
   "source": [
    "print(\"Epsilon:       {}\".format(cfg['train']['epsilon']))\n",
    "print(\"Batch Size:    {}\".format(cfg['train']['batch_size']))\n",
    "print(\"Update Every:  {}\".format(cfg['train']['update_every']))\n",
    "print(\"Learning Rate: {}\".format(cfg['train']['learning_rate']))\n",
    "print(\"Tau:           {}\".format(cfg['train']['tau']))\n",
    "print(\"Gamma:         {}\".format(cfg['train']['gamma']))"
   ]
  },
  {
   "cell_type": "markdown",
   "metadata": {},
   "source": [
    "#### Neural Network Configuration"
   ]
  },
  {
   "cell_type": "code",
   "execution_count": 8,
   "metadata": {},
   "outputs": [
    {
     "name": "stdout",
     "output_type": "stream",
     "text": [
      "Hidden Layers Units: [64, 64]\n",
      "Use Dueling:         False\n",
      "Use Double:          True\n"
     ]
    }
   ],
   "source": [
    "print(\"Hidden Layers Units: {}\".format(cfg['neural_network']['hidden_layers']))\n",
    "print(\"Use Dueling:         {}\".format(cfg['neural_network']['dueling']))\n",
    "print(\"Use Double:          {}\".format(cfg['neural_network']['double']))"
   ]
  },
  {
   "cell_type": "markdown",
   "metadata": {},
   "source": [
    "#### Replay Memory"
   ]
  },
  {
   "cell_type": "code",
   "execution_count": 9,
   "metadata": {},
   "outputs": [
    {
     "name": "stdout",
     "output_type": "stream",
     "text": [
      "Buffer Size:              100000\n",
      "Use Prioritized Replay:   True\n",
      "Prioritized Replay Alpha: 0.6\n",
      "Prioritized Replay Beta0: 0.4\n",
      "Prioritized Replay Eps:   1e-06\n"
     ]
    }
   ],
   "source": [
    "print(\"Buffer Size:              {}\".format(cfg['replay_memory']['buffer_size']))\n",
    "print(\"Use Prioritized Replay:   {}\".format(cfg['replay_memory']['prioritized_replay']))\n",
    "print(\"Prioritized Replay Alpha: {}\".format(cfg['replay_memory']['prioritized_replay_alpha']))\n",
    "print(\"Prioritized Replay Beta0: {}\".format(cfg['replay_memory']['prioritized_replay_beta0']))\n",
    "print(\"Prioritized Replay Eps:   {}\".format(cfg['replay_memory']['prioritized_replay_eps']))"
   ]
  },
  {
   "cell_type": "markdown",
   "metadata": {},
   "source": [
    "## Training"
   ]
  },
  {
   "cell_type": "code",
   "execution_count": 10,
   "metadata": {},
   "outputs": [],
   "source": [
    "experiment = Experiment(config)"
   ]
  },
  {
   "cell_type": "code",
   "execution_count": 11,
   "metadata": {},
   "outputs": [
    {
     "name": "stderr",
     "output_type": "stream",
     "text": [
      "INFO:unityagents:\n",
      "'Academy' started successfully!\n",
      "Unity Academy name: Academy\n",
      "        Number of Brains: 1\n",
      "        Number of External Brains : 1\n",
      "        Lesson number : 0\n",
      "        Reset Parameters :\n",
      "\t\t\n",
      "Unity brain name: BananaBrain\n",
      "        Number of Visual Observations (per agent): 0\n",
      "        Vector Observation space type: continuous\n",
      "        Vector Observation space size (per agent): 37\n",
      "        Number of stacked Vector Observation: 1\n",
      "        Vector Action space type: discrete\n",
      "        Vector Action space size (per agent): 4\n",
      "        Vector Action descriptions: , , , \n"
     ]
    },
    {
     "name": "stdout",
     "output_type": "stream",
     "text": [
      "2020-08-12 06:05:40,416 - unityagents - INFO - \n",
      "'Academy' started successfully!\n",
      "Unity Academy name: Academy\n",
      "        Number of Brains: 1\n",
      "        Number of External Brains : 1\n",
      "        Lesson number : 0\n",
      "        Reset Parameters :\n",
      "\t\t\n",
      "Unity brain name: BananaBrain\n",
      "        Number of Visual Observations (per agent): 0\n",
      "        Vector Observation space type: continuous\n",
      "        Vector Observation space size (per agent): 37\n",
      "        Number of stacked Vector Observation: 1\n",
      "        Vector Action space type: discrete\n",
      "        Vector Action space size (per agent): 4\n",
      "        Vector Action descriptions: , , , \n"
     ]
    },
    {
     "name": "stderr",
     "output_type": "stream",
     "text": [
      "INFO:root:Epoch 0\t Score: 0.18\t Val Score: 0.83\tEpsilon: 0.84\n"
     ]
    },
    {
     "name": "stdout",
     "output_type": "stream",
     "text": [
      "2020-08-12 06:06:53,218 - root - INFO - Epoch 0\t Score: 0.18\t Val Score: 0.83\tEpsilon: 0.84\n"
     ]
    },
    {
     "name": "stderr",
     "output_type": "stream",
     "text": [
      "INFO:root:Epoch 1\t Score: 0.54\t Val Score: 1.17\tEpsilon: 0.71\n"
     ]
    },
    {
     "name": "stdout",
     "output_type": "stream",
     "text": [
      "2020-08-12 06:08:15,364 - root - INFO - Epoch 1\t Score: 0.54\t Val Score: 1.17\tEpsilon: 0.71\n"
     ]
    },
    {
     "name": "stderr",
     "output_type": "stream",
     "text": [
      "INFO:root:Epoch 2\t Score: 0.76\t Val Score: 3.33\tEpsilon: 0.60\n"
     ]
    },
    {
     "name": "stdout",
     "output_type": "stream",
     "text": [
      "2020-08-12 06:09:37,594 - root - INFO - Epoch 2\t Score: 0.76\t Val Score: 3.33\tEpsilon: 0.60\n"
     ]
    },
    {
     "name": "stderr",
     "output_type": "stream",
     "text": [
      "INFO:root:Epoch 3\t Score: 1.40\t Val Score: 2.17\tEpsilon: 0.51\n"
     ]
    },
    {
     "name": "stdout",
     "output_type": "stream",
     "text": [
      "2020-08-12 06:11:00,002 - root - INFO - Epoch 3\t Score: 1.40\t Val Score: 2.17\tEpsilon: 0.51\n"
     ]
    },
    {
     "name": "stderr",
     "output_type": "stream",
     "text": [
      "INFO:root:Epoch 4\t Score: 2.17\t Val Score: 3.17\tEpsilon: 0.43\n"
     ]
    },
    {
     "name": "stdout",
     "output_type": "stream",
     "text": [
      "2020-08-12 06:12:23,135 - root - INFO - Epoch 4\t Score: 2.17\t Val Score: 3.17\tEpsilon: 0.43\n"
     ]
    },
    {
     "name": "stderr",
     "output_type": "stream",
     "text": [
      "INFO:root:Epoch 5\t Score: 3.03\t Val Score: 6.17\tEpsilon: 0.36\n"
     ]
    },
    {
     "name": "stdout",
     "output_type": "stream",
     "text": [
      "2020-08-12 06:13:45,299 - root - INFO - Epoch 5\t Score: 3.03\t Val Score: 6.17\tEpsilon: 0.36\n"
     ]
    },
    {
     "name": "stderr",
     "output_type": "stream",
     "text": [
      "INFO:root:Epoch 6\t Score: 4.19\t Val Score: 4.83\tEpsilon: 0.30\n"
     ]
    },
    {
     "name": "stdout",
     "output_type": "stream",
     "text": [
      "2020-08-12 06:15:07,407 - root - INFO - Epoch 6\t Score: 4.19\t Val Score: 4.83\tEpsilon: 0.30\n"
     ]
    },
    {
     "name": "stderr",
     "output_type": "stream",
     "text": [
      "INFO:root:Epoch 7\t Score: 4.59\t Val Score: 4.50\tEpsilon: 0.26\n"
     ]
    },
    {
     "name": "stdout",
     "output_type": "stream",
     "text": [
      "2020-08-12 06:16:29,905 - root - INFO - Epoch 7\t Score: 4.59\t Val Score: 4.50\tEpsilon: 0.26\n"
     ]
    },
    {
     "name": "stderr",
     "output_type": "stream",
     "text": [
      "INFO:root:Epoch 8\t Score: 5.04\t Val Score: 6.50\tEpsilon: 0.22\n"
     ]
    },
    {
     "name": "stdout",
     "output_type": "stream",
     "text": [
      "2020-08-12 06:17:56,630 - root - INFO - Epoch 8\t Score: 5.04\t Val Score: 6.50\tEpsilon: 0.22\n"
     ]
    },
    {
     "name": "stderr",
     "output_type": "stream",
     "text": [
      "INFO:root:Epoch 9\t Score: 5.40\t Val Score: 6.67\tEpsilon: 0.18\n"
     ]
    },
    {
     "name": "stdout",
     "output_type": "stream",
     "text": [
      "2020-08-12 06:19:16,342 - root - INFO - Epoch 9\t Score: 5.40\t Val Score: 6.67\tEpsilon: 0.18\n"
     ]
    },
    {
     "name": "stderr",
     "output_type": "stream",
     "text": [
      "INFO:root:Epoch 10\t Score: 6.40\t Val Score: 7.83\tEpsilon: 0.15\n"
     ]
    },
    {
     "name": "stdout",
     "output_type": "stream",
     "text": [
      "2020-08-12 06:20:37,568 - root - INFO - Epoch 10\t Score: 6.40\t Val Score: 7.83\tEpsilon: 0.15\n"
     ]
    },
    {
     "name": "stderr",
     "output_type": "stream",
     "text": [
      "INFO:root:Epoch 11\t Score: 7.16\t Val Score: 8.00\tEpsilon: 0.13\n"
     ]
    },
    {
     "name": "stdout",
     "output_type": "stream",
     "text": [
      "2020-08-12 06:21:59,734 - root - INFO - Epoch 11\t Score: 7.16\t Val Score: 8.00\tEpsilon: 0.13\n"
     ]
    },
    {
     "name": "stderr",
     "output_type": "stream",
     "text": [
      "INFO:root:Epoch 12\t Score: 8.29\t Val Score: 7.50\tEpsilon: 0.11\n"
     ]
    },
    {
     "name": "stdout",
     "output_type": "stream",
     "text": [
      "2020-08-12 06:23:21,948 - root - INFO - Epoch 12\t Score: 8.29\t Val Score: 7.50\tEpsilon: 0.11\n"
     ]
    },
    {
     "name": "stderr",
     "output_type": "stream",
     "text": [
      "INFO:root:Epoch 13\t Score: 8.78\t Val Score: 11.67\tEpsilon: 0.09\n"
     ]
    },
    {
     "name": "stdout",
     "output_type": "stream",
     "text": [
      "2020-08-12 06:24:43,340 - root - INFO - Epoch 13\t Score: 8.78\t Val Score: 11.67\tEpsilon: 0.09\n"
     ]
    },
    {
     "name": "stderr",
     "output_type": "stream",
     "text": [
      "INFO:root:Epoch 14\t Score: 9.56\t Val Score: 11.67\tEpsilon: 0.08\n"
     ]
    },
    {
     "name": "stdout",
     "output_type": "stream",
     "text": [
      "2020-08-12 06:25:52,280 - root - INFO - Epoch 14\t Score: 9.56\t Val Score: 11.67\tEpsilon: 0.08\n"
     ]
    },
    {
     "name": "stderr",
     "output_type": "stream",
     "text": [
      "INFO:root:Epoch 15\t Score: 9.87\t Val Score: 9.33\tEpsilon: 0.07\n"
     ]
    },
    {
     "name": "stdout",
     "output_type": "stream",
     "text": [
      "2020-08-12 06:26:56,418 - root - INFO - Epoch 15\t Score: 9.87\t Val Score: 9.33\tEpsilon: 0.07\n"
     ]
    },
    {
     "name": "stderr",
     "output_type": "stream",
     "text": [
      "INFO:root:Epoch 16\t Score: 10.19\t Val Score: 10.00\tEpsilon: 0.06\n"
     ]
    },
    {
     "name": "stdout",
     "output_type": "stream",
     "text": [
      "2020-08-12 06:27:34,217 - root - INFO - Epoch 16\t Score: 10.19\t Val Score: 10.00\tEpsilon: 0.06\n"
     ]
    },
    {
     "name": "stderr",
     "output_type": "stream",
     "text": [
      "INFO:root:Epoch 17\t Score: 10.44\t Val Score: 10.00\tEpsilon: 0.05\n"
     ]
    },
    {
     "name": "stdout",
     "output_type": "stream",
     "text": [
      "2020-08-12 06:28:12,231 - root - INFO - Epoch 17\t Score: 10.44\t Val Score: 10.00\tEpsilon: 0.05\n"
     ]
    },
    {
     "name": "stderr",
     "output_type": "stream",
     "text": [
      "INFO:root:Epoch 18\t Score: 10.40\t Val Score: 10.33\tEpsilon: 0.04\n"
     ]
    },
    {
     "name": "stdout",
     "output_type": "stream",
     "text": [
      "2020-08-12 06:28:49,679 - root - INFO - Epoch 18\t Score: 10.40\t Val Score: 10.33\tEpsilon: 0.04\n"
     ]
    },
    {
     "name": "stderr",
     "output_type": "stream",
     "text": [
      "INFO:root:Epoch 19\t Score: 10.30\t Val Score: 11.17\tEpsilon: 0.03\n"
     ]
    },
    {
     "name": "stdout",
     "output_type": "stream",
     "text": [
      "2020-08-12 06:29:26,834 - root - INFO - Epoch 19\t Score: 10.30\t Val Score: 11.17\tEpsilon: 0.03\n"
     ]
    },
    {
     "name": "stderr",
     "output_type": "stream",
     "text": [
      "INFO:root:Epoch 20\t Score: 10.91\t Val Score: 10.17\tEpsilon: 0.03\n"
     ]
    },
    {
     "name": "stdout",
     "output_type": "stream",
     "text": [
      "2020-08-12 06:30:06,044 - root - INFO - Epoch 20\t Score: 10.91\t Val Score: 10.17\tEpsilon: 0.03\n"
     ]
    },
    {
     "name": "stderr",
     "output_type": "stream",
     "text": [
      "INFO:root:Epoch 21\t Score: 11.20\t Val Score: 11.67\tEpsilon: 0.02\n"
     ]
    },
    {
     "name": "stdout",
     "output_type": "stream",
     "text": [
      "2020-08-12 06:30:44,415 - root - INFO - Epoch 21\t Score: 11.20\t Val Score: 11.67\tEpsilon: 0.02\n"
     ]
    },
    {
     "name": "stderr",
     "output_type": "stream",
     "text": [
      "INFO:root:Epoch 22\t Score: 11.55\t Val Score: 11.00\tEpsilon: 0.02\n"
     ]
    },
    {
     "name": "stdout",
     "output_type": "stream",
     "text": [
      "2020-08-12 06:31:22,819 - root - INFO - Epoch 22\t Score: 11.55\t Val Score: 11.00\tEpsilon: 0.02\n"
     ]
    },
    {
     "name": "stderr",
     "output_type": "stream",
     "text": [
      "INFO:root:Epoch 23\t Score: 11.73\t Val Score: 11.00\tEpsilon: 0.02\n"
     ]
    },
    {
     "name": "stdout",
     "output_type": "stream",
     "text": [
      "2020-08-12 06:32:00,442 - root - INFO - Epoch 23\t Score: 11.73\t Val Score: 11.00\tEpsilon: 0.02\n"
     ]
    },
    {
     "name": "stderr",
     "output_type": "stream",
     "text": [
      "INFO:root:Epoch 24\t Score: 12.01\t Val Score: 12.67\tEpsilon: 0.01\n"
     ]
    },
    {
     "name": "stdout",
     "output_type": "stream",
     "text": [
      "2020-08-12 06:32:39,698 - root - INFO - Epoch 24\t Score: 12.01\t Val Score: 12.67\tEpsilon: 0.01\n"
     ]
    },
    {
     "name": "stderr",
     "output_type": "stream",
     "text": [
      "INFO:root:Epoch 25\t Score: 11.99\t Val Score: 11.50\tEpsilon: 0.01\n"
     ]
    },
    {
     "name": "stdout",
     "output_type": "stream",
     "text": [
      "2020-08-12 06:33:16,687 - root - INFO - Epoch 25\t Score: 11.99\t Val Score: 11.50\tEpsilon: 0.01\n"
     ]
    },
    {
     "name": "stderr",
     "output_type": "stream",
     "text": [
      "INFO:root:Epoch 26\t Score: 11.31\t Val Score: 12.33\tEpsilon: 0.01\n"
     ]
    },
    {
     "name": "stdout",
     "output_type": "stream",
     "text": [
      "2020-08-12 06:33:54,068 - root - INFO - Epoch 26\t Score: 11.31\t Val Score: 12.33\tEpsilon: 0.01\n"
     ]
    },
    {
     "name": "stderr",
     "output_type": "stream",
     "text": [
      "INFO:root:Epoch 27\t Score: 11.16\t Val Score: 12.83\tEpsilon: 0.01\n"
     ]
    },
    {
     "name": "stdout",
     "output_type": "stream",
     "text": [
      "2020-08-12 06:34:30,248 - root - INFO - Epoch 27\t Score: 11.16\t Val Score: 12.83\tEpsilon: 0.01\n"
     ]
    },
    {
     "name": "stderr",
     "output_type": "stream",
     "text": [
      "INFO:root:Epoch 28\t Score: 11.41\t Val Score: 15.00\tEpsilon: 0.01\n"
     ]
    },
    {
     "name": "stdout",
     "output_type": "stream",
     "text": [
      "2020-08-12 06:35:07,631 - root - INFO - Epoch 28\t Score: 11.41\t Val Score: 15.00\tEpsilon: 0.01\n"
     ]
    },
    {
     "name": "stderr",
     "output_type": "stream",
     "text": [
      "INFO:root:Epoch 29\t Score: 11.93\t Val Score: 11.50\tEpsilon: 0.01\n"
     ]
    },
    {
     "name": "stdout",
     "output_type": "stream",
     "text": [
      "2020-08-12 06:35:45,702 - root - INFO - Epoch 29\t Score: 11.93\t Val Score: 11.50\tEpsilon: 0.01\n"
     ]
    },
    {
     "name": "stderr",
     "output_type": "stream",
     "text": [
      "INFO:root:Epoch 30\t Score: 12.44\t Val Score: 11.83\tEpsilon: 0.01\n"
     ]
    },
    {
     "name": "stdout",
     "output_type": "stream",
     "text": [
      "2020-08-12 06:36:24,425 - root - INFO - Epoch 30\t Score: 12.44\t Val Score: 11.83\tEpsilon: 0.01\n"
     ]
    },
    {
     "name": "stderr",
     "output_type": "stream",
     "text": [
      "INFO:root:Epoch 31\t Score: 12.64\t Val Score: 14.00\tEpsilon: 0.01\n"
     ]
    },
    {
     "name": "stdout",
     "output_type": "stream",
     "text": [
      "2020-08-12 06:37:04,891 - root - INFO - Epoch 31\t Score: 12.64\t Val Score: 14.00\tEpsilon: 0.01\n"
     ]
    },
    {
     "name": "stderr",
     "output_type": "stream",
     "text": [
      "INFO:root:Epoch 32\t Score: 13.14\t Val Score: 14.00\tEpsilon: 0.01\n"
     ]
    },
    {
     "name": "stdout",
     "output_type": "stream",
     "text": [
      "2020-08-12 06:37:44,844 - root - INFO - Epoch 32\t Score: 13.14\t Val Score: 14.00\tEpsilon: 0.01\n"
     ]
    },
    {
     "name": "stderr",
     "output_type": "stream",
     "text": [
      "INFO:root:Epoch 33\t Score: 13.14\t Val Score: 15.50\tEpsilon: 0.01\n"
     ]
    },
    {
     "name": "stdout",
     "output_type": "stream",
     "text": [
      "2020-08-12 06:38:21,754 - root - INFO - Epoch 33\t Score: 13.14\t Val Score: 15.50\tEpsilon: 0.01\n"
     ]
    },
    {
     "name": "stderr",
     "output_type": "stream",
     "text": [
      "INFO:root:Epoch 34\t Score: 13.44\t Val Score: 11.00\tEpsilon: 0.01\n"
     ]
    },
    {
     "name": "stdout",
     "output_type": "stream",
     "text": [
      "2020-08-12 06:39:00,799 - root - INFO - Epoch 34\t Score: 13.44\t Val Score: 11.00\tEpsilon: 0.01\n"
     ]
    },
    {
     "name": "stderr",
     "output_type": "stream",
     "text": [
      "INFO:root:Epoch 35\t Score: 13.17\t Val Score: 15.33\tEpsilon: 0.01\n"
     ]
    },
    {
     "name": "stdout",
     "output_type": "stream",
     "text": [
      "2020-08-12 06:39:39,563 - root - INFO - Epoch 35\t Score: 13.17\t Val Score: 15.33\tEpsilon: 0.01\n"
     ]
    },
    {
     "name": "stderr",
     "output_type": "stream",
     "text": [
      "INFO:root:Epoch 36\t Score: 13.94\t Val Score: 12.50\tEpsilon: 0.01\n"
     ]
    },
    {
     "name": "stdout",
     "output_type": "stream",
     "text": [
      "2020-08-12 06:40:17,503 - root - INFO - Epoch 36\t Score: 13.94\t Val Score: 12.50\tEpsilon: 0.01\n"
     ]
    },
    {
     "name": "stderr",
     "output_type": "stream",
     "text": [
      "INFO:root:Epoch 37\t Score: 14.40\t Val Score: 16.17\tEpsilon: 0.01\n"
     ]
    },
    {
     "name": "stdout",
     "output_type": "stream",
     "text": [
      "2020-08-12 06:40:57,954 - root - INFO - Epoch 37\t Score: 14.40\t Val Score: 16.17\tEpsilon: 0.01\n"
     ]
    },
    {
     "name": "stderr",
     "output_type": "stream",
     "text": [
      "INFO:root:Epoch 38\t Score: 14.94\t Val Score: 15.83\tEpsilon: 0.01\n"
     ]
    },
    {
     "name": "stdout",
     "output_type": "stream",
     "text": [
      "2020-08-12 06:41:39,531 - root - INFO - Epoch 38\t Score: 14.94\t Val Score: 15.83\tEpsilon: 0.01\n"
     ]
    },
    {
     "name": "stderr",
     "output_type": "stream",
     "text": [
      "INFO:root:Epoch 39\t Score: 14.68\t Val Score: 14.50\tEpsilon: 0.01\n"
     ]
    },
    {
     "name": "stdout",
     "output_type": "stream",
     "text": [
      "2020-08-12 06:42:16,733 - root - INFO - Epoch 39\t Score: 14.68\t Val Score: 14.50\tEpsilon: 0.01\n"
     ]
    },
    {
     "name": "stderr",
     "output_type": "stream",
     "text": [
      "INFO:root:Epoch 40\t Score: 14.44\t Val Score: 14.00\tEpsilon: 0.01\n"
     ]
    },
    {
     "name": "stdout",
     "output_type": "stream",
     "text": [
      "2020-08-12 06:42:56,089 - root - INFO - Epoch 40\t Score: 14.44\t Val Score: 14.00\tEpsilon: 0.01\n"
     ]
    },
    {
     "name": "stderr",
     "output_type": "stream",
     "text": [
      "INFO:root:Epoch 41\t Score: 14.55\t Val Score: 14.83\tEpsilon: 0.01\n"
     ]
    },
    {
     "name": "stdout",
     "output_type": "stream",
     "text": [
      "2020-08-12 06:43:32,129 - root - INFO - Epoch 41\t Score: 14.55\t Val Score: 14.83\tEpsilon: 0.01\n"
     ]
    },
    {
     "name": "stderr",
     "output_type": "stream",
     "text": [
      "INFO:root:Epoch 42\t Score: 15.20\t Val Score: 16.50\tEpsilon: 0.01\n"
     ]
    },
    {
     "name": "stdout",
     "output_type": "stream",
     "text": [
      "2020-08-12 06:44:07,776 - root - INFO - Epoch 42\t Score: 15.20\t Val Score: 16.50\tEpsilon: 0.01\n"
     ]
    },
    {
     "name": "stderr",
     "output_type": "stream",
     "text": [
      "INFO:root:Epoch 43\t Score: 15.12\t Val Score: 15.17\tEpsilon: 0.01\n"
     ]
    },
    {
     "name": "stdout",
     "output_type": "stream",
     "text": [
      "2020-08-12 06:44:43,667 - root - INFO - Epoch 43\t Score: 15.12\t Val Score: 15.17\tEpsilon: 0.01\n"
     ]
    },
    {
     "name": "stderr",
     "output_type": "stream",
     "text": [
      "INFO:root:Epoch 44\t Score: 15.49\t Val Score: 12.17\tEpsilon: 0.01\n"
     ]
    },
    {
     "name": "stdout",
     "output_type": "stream",
     "text": [
      "2020-08-12 06:45:19,338 - root - INFO - Epoch 44\t Score: 15.49\t Val Score: 12.17\tEpsilon: 0.01\n"
     ]
    },
    {
     "name": "stderr",
     "output_type": "stream",
     "text": [
      "INFO:root:Epoch 45\t Score: 14.62\t Val Score: 18.67\tEpsilon: 0.01\n"
     ]
    },
    {
     "name": "stdout",
     "output_type": "stream",
     "text": [
      "2020-08-12 06:45:55,339 - root - INFO - Epoch 45\t Score: 14.62\t Val Score: 18.67\tEpsilon: 0.01\n"
     ]
    },
    {
     "name": "stderr",
     "output_type": "stream",
     "text": [
      "INFO:root:Epoch 46\t Score: 14.39\t Val Score: 15.50\tEpsilon: 0.01\n"
     ]
    },
    {
     "name": "stdout",
     "output_type": "stream",
     "text": [
      "2020-08-12 06:46:30,931 - root - INFO - Epoch 46\t Score: 14.39\t Val Score: 15.50\tEpsilon: 0.01\n"
     ]
    },
    {
     "name": "stderr",
     "output_type": "stream",
     "text": [
      "INFO:root:Epoch 47\t Score: 14.24\t Val Score: 17.17\tEpsilon: 0.01\n"
     ]
    },
    {
     "name": "stdout",
     "output_type": "stream",
     "text": [
      "2020-08-12 06:47:06,424 - root - INFO - Epoch 47\t Score: 14.24\t Val Score: 17.17\tEpsilon: 0.01\n"
     ]
    },
    {
     "name": "stderr",
     "output_type": "stream",
     "text": [
      "INFO:root:Epoch 48\t Score: 14.84\t Val Score: 15.50\tEpsilon: 0.01\n"
     ]
    },
    {
     "name": "stdout",
     "output_type": "stream",
     "text": [
      "2020-08-12 06:47:48,799 - root - INFO - Epoch 48\t Score: 14.84\t Val Score: 15.50\tEpsilon: 0.01\n"
     ]
    },
    {
     "name": "stderr",
     "output_type": "stream",
     "text": [
      "INFO:root:Epoch 49\t Score: 15.22\t Val Score: 14.33\tEpsilon: 0.01\n"
     ]
    },
    {
     "name": "stdout",
     "output_type": "stream",
     "text": [
      "2020-08-12 06:48:25,497 - root - INFO - Epoch 49\t Score: 15.22\t Val Score: 14.33\tEpsilon: 0.01\n"
     ]
    },
    {
     "name": "stderr",
     "output_type": "stream",
     "text": [
      "INFO:root:Epoch 50\t Score: 15.41\t Val Score: 16.33\tEpsilon: 0.01\n"
     ]
    },
    {
     "name": "stdout",
     "output_type": "stream",
     "text": [
      "2020-08-12 06:49:10,514 - root - INFO - Epoch 50\t Score: 15.41\t Val Score: 16.33\tEpsilon: 0.01\n"
     ]
    },
    {
     "name": "stderr",
     "output_type": "stream",
     "text": [
      "INFO:root:Epoch 51\t Score: 15.37\t Val Score: 16.50\tEpsilon: 0.01\n"
     ]
    },
    {
     "name": "stdout",
     "output_type": "stream",
     "text": [
      "2020-08-12 06:50:25,744 - root - INFO - Epoch 51\t Score: 15.37\t Val Score: 16.50\tEpsilon: 0.01\n"
     ]
    },
    {
     "name": "stderr",
     "output_type": "stream",
     "text": [
      "INFO:root:Epoch 52\t Score: 15.38\t Val Score: 14.33\tEpsilon: 0.01\n"
     ]
    },
    {
     "name": "stdout",
     "output_type": "stream",
     "text": [
      "2020-08-12 06:51:34,951 - root - INFO - Epoch 52\t Score: 15.38\t Val Score: 14.33\tEpsilon: 0.01\n"
     ]
    },
    {
     "name": "stderr",
     "output_type": "stream",
     "text": [
      "INFO:root:Epoch 53\t Score: 15.92\t Val Score: 14.17\tEpsilon: 0.01\n"
     ]
    },
    {
     "name": "stdout",
     "output_type": "stream",
     "text": [
      "2020-08-12 06:52:51,155 - root - INFO - Epoch 53\t Score: 15.92\t Val Score: 14.17\tEpsilon: 0.01\n"
     ]
    },
    {
     "name": "stderr",
     "output_type": "stream",
     "text": [
      "INFO:root:Epoch 54\t Score: 16.33\t Val Score: 15.17\tEpsilon: 0.01\n"
     ]
    },
    {
     "name": "stdout",
     "output_type": "stream",
     "text": [
      "2020-08-12 06:53:58,006 - root - INFO - Epoch 54\t Score: 16.33\t Val Score: 15.17\tEpsilon: 0.01\n"
     ]
    },
    {
     "name": "stderr",
     "output_type": "stream",
     "text": [
      "INFO:root:Epoch 55\t Score: 16.34\t Val Score: 13.67\tEpsilon: 0.01\n"
     ]
    },
    {
     "name": "stdout",
     "output_type": "stream",
     "text": [
      "2020-08-12 06:55:11,988 - root - INFO - Epoch 55\t Score: 16.34\t Val Score: 13.67\tEpsilon: 0.01\n"
     ]
    },
    {
     "name": "stderr",
     "output_type": "stream",
     "text": [
      "INFO:root:Epoch 56\t Score: 16.35\t Val Score: 16.00\tEpsilon: 0.01\n"
     ]
    },
    {
     "name": "stdout",
     "output_type": "stream",
     "text": [
      "2020-08-12 06:56:34,041 - root - INFO - Epoch 56\t Score: 16.35\t Val Score: 16.00\tEpsilon: 0.01\n"
     ]
    },
    {
     "name": "stderr",
     "output_type": "stream",
     "text": [
      "INFO:root:Epoch 57\t Score: 16.07\t Val Score: 16.17\tEpsilon: 0.01\n"
     ]
    },
    {
     "name": "stdout",
     "output_type": "stream",
     "text": [
      "2020-08-12 06:57:56,350 - root - INFO - Epoch 57\t Score: 16.07\t Val Score: 16.17\tEpsilon: 0.01\n"
     ]
    },
    {
     "name": "stderr",
     "output_type": "stream",
     "text": [
      "INFO:root:Epoch 58\t Score: 16.52\t Val Score: 16.33\tEpsilon: 0.01\n"
     ]
    },
    {
     "name": "stdout",
     "output_type": "stream",
     "text": [
      "2020-08-12 06:59:07,007 - root - INFO - Epoch 58\t Score: 16.52\t Val Score: 16.33\tEpsilon: 0.01\n"
     ]
    }
   ],
   "source": [
    "scores = experiment.train()"
   ]
  },
  {
   "cell_type": "markdown",
   "metadata": {},
   "source": [
    "## Analasys"
   ]
  },
  {
   "cell_type": "markdown",
   "metadata": {},
   "source": [
    "The project is solved in epoch 32 after playing 1088 episodes."
   ]
  },
  {
   "cell_type": "code",
   "execution_count": 12,
   "metadata": {},
   "outputs": [
    {
     "name": "stdout",
     "output_type": "stream",
     "text": [
      "Session ID: banana-20200812T0605\n"
     ]
    }
   ],
   "source": [
    "session_id = experiment.get_session_id()\n",
    "print(\"Session ID: {}\".format(session_id))"
   ]
  },
  {
   "cell_type": "code",
   "execution_count": 13,
   "metadata": {},
   "outputs": [],
   "source": [
    "analyzer = Analyzer(config, session_id)"
   ]
  },
  {
   "cell_type": "code",
   "execution_count": 14,
   "metadata": {},
   "outputs": [],
   "source": [
    "experiments = [\n",
    "    '_experiments/train/banana-20200812T0605', # double  - eps 0.995 - hidden_layers 64,64   - num_frames 4\n",
    "]"
   ]
  },
  {
   "cell_type": "code",
   "execution_count": 15,
   "metadata": {},
   "outputs": [
    {
     "data": {
      "image/png": "[encoded data removed]",
      "text/plain": [
       "<Figure size 432x288 with 1 Axes>"
      ]
     },
     "metadata": {
      "needs_background": "light"
     },
     "output_type": "display_data"
    },
    {
     "data": {
      "image/png": "[encoded data removed]",
      "text/plain": [
       "<Figure size 432x288 with 1 Axes>"
      ]
     },
     "metadata": {
      "needs_background": "light"
     },
     "output_type": "display_data"
    }
   ],
   "source": [
    "analyzer.compare_train_epoch_cols(experiments, 'avg_score', True)\n",
    "analyzer.compare_train_epoch_cols(experiments, 'epsilon', True)"
   ]
  },
  {
   "cell_type": "markdown",
   "metadata": {},
   "source": [
    "## Stored Models"
   ]
  },
  {
   "cell_type": "code",
   "execution_count": 16,
   "metadata": {},
   "outputs": [
    {
     "name": "stdout",
     "output_type": "stream",
     "text": [
      "banana_banana-20200812T0605_0_0.18_0.83_0.84.pth\n",
      "banana_banana-20200812T0605_10_6.40_7.83_0.15.pth\n",
      "banana_banana-20200812T0605_11_7.16_8.00_0.13.pth\n",
      "banana_banana-20200812T0605_12_8.29_7.50_0.11.pth\n",
      "banana_banana-20200812T0605_13_8.78_11.67_0.09.pth\n",
      "banana_banana-20200812T0605_14_9.56_11.67_0.08.pth\n",
      "banana_banana-20200812T0605_15_9.87_9.33_0.07.pth\n",
      "banana_banana-20200812T0605_16_10.19_10.00_0.06.pth\n",
      "banana_banana-20200812T0605_17_10.44_10.00_0.05.pth\n",
      "banana_banana-20200812T0605_18_10.40_10.33_0.04.pth\n",
      "banana_banana-20200812T0605_19_10.30_11.17_0.03.pth\n",
      "banana_banana-20200812T0605_1_0.54_1.17_0.71.pth\n",
      "banana_banana-20200812T0605_20_10.91_10.17_0.03.pth\n",
      "banana_banana-20200812T0605_21_11.20_11.67_0.02.pth\n",
      "banana_banana-20200812T0605_22_11.55_11.00_0.02.pth\n",
      "banana_banana-20200812T0605_23_11.73_11.00_0.02.pth\n",
      "banana_banana-20200812T0605_24_12.01_12.67_0.01.pth\n",
      "banana_banana-20200812T0605_25_11.99_11.50_0.01.pth\n",
      "banana_banana-20200812T0605_26_11.31_12.33_0.01.pth\n",
      "banana_banana-20200812T0605_27_11.16_12.83_0.01.pth\n",
      "banana_banana-20200812T0605_28_11.41_15.00_0.01.pth\n",
      "banana_banana-20200812T0605_29_11.93_11.50_0.01.pth\n",
      "banana_banana-20200812T0605_2_0.76_3.33_0.60.pth\n",
      "banana_banana-20200812T0605_30_12.44_11.83_0.01.pth\n",
      "banana_banana-20200812T0605_31_12.64_14.00_0.01.pth\n",
      "banana_banana-20200812T0605_32_13.14_14.00_0.01.pth\n",
      "banana_banana-20200812T0605_33_13.14_15.50_0.01.pth\n",
      "banana_banana-20200812T0605_34_13.44_11.00_0.01.pth\n",
      "banana_banana-20200812T0605_35_13.17_15.33_0.01.pth\n",
      "banana_banana-20200812T0605_36_13.94_12.50_0.01.pth\n",
      "banana_banana-20200812T0605_37_14.40_16.17_0.01.pth\n",
      "banana_banana-20200812T0605_38_14.94_15.83_0.01.pth\n",
      "banana_banana-20200812T0605_39_14.68_14.50_0.01.pth\n",
      "banana_banana-20200812T0605_3_1.40_2.17_0.51.pth\n",
      "banana_banana-20200812T0605_40_14.44_14.00_0.01.pth\n",
      "banana_banana-20200812T0605_41_14.55_14.83_0.01.pth\n",
      "banana_banana-20200812T0605_42_15.20_16.50_0.01.pth\n",
      "banana_banana-20200812T0605_43_15.12_15.17_0.01.pth\n",
      "banana_banana-20200812T0605_44_15.49_12.17_0.01.pth\n",
      "banana_banana-20200812T0605_45_14.62_18.67_0.01.pth\n",
      "banana_banana-20200812T0605_46_14.39_15.50_0.01.pth\n",
      "banana_banana-20200812T0605_47_14.24_17.17_0.01.pth\n",
      "banana_banana-20200812T0605_48_14.84_15.50_0.01.pth\n",
      "banana_banana-20200812T0605_49_15.22_14.33_0.01.pth\n",
      "banana_banana-20200812T0605_4_2.17_3.17_0.43.pth\n",
      "banana_banana-20200812T0605_50_15.41_16.33_0.01.pth\n",
      "banana_banana-20200812T0605_51_15.37_16.50_0.01.pth\n",
      "banana_banana-20200812T0605_52_15.38_14.33_0.01.pth\n",
      "banana_banana-20200812T0605_53_15.92_14.17_0.01.pth\n",
      "banana_banana-20200812T0605_54_16.33_15.17_0.01.pth\n",
      "banana_banana-20200812T0605_55_16.34_13.67_0.01.pth\n",
      "banana_banana-20200812T0605_56_16.35_16.00_0.01.pth\n",
      "banana_banana-20200812T0605_57_16.07_16.17_0.01.pth\n",
      "banana_banana-20200812T0605_58_16.52_16.33_0.01.pth\n",
      "banana_banana-20200812T0605_5_3.03_6.17_0.36.pth\n",
      "banana_banana-20200812T0605_6_4.19_4.83_0.30.pth\n",
      "banana_banana-20200812T0605_7_4.59_4.50_0.26.pth\n",
      "banana_banana-20200812T0605_8_5.04_6.50_0.22.pth\n",
      "banana_banana-20200812T0605_9_5.40_6.67_0.18.pth\n",
      "config.json\n",
      "episode-log.csv\n",
      "epoch-log.csv\n"
     ]
    }
   ],
   "source": [
    "!ls _experiments/train/banana-20200812T0605"
   ]
  },
  {
   "cell_type": "markdown",
   "metadata": {},
   "source": [
    "## Play With a Trained Agent"
   ]
  },
  {
   "cell_type": "code",
   "execution_count": 17,
   "metadata": {},
   "outputs": [
    {
     "name": "stderr",
     "output_type": "stream",
     "text": [
      "INFO:unityagents:\n",
      "'Academy' started successfully!\n",
      "Unity Academy name: Academy\n",
      "        Number of Brains: 1\n",
      "        Number of External Brains : 1\n",
      "        Lesson number : 0\n",
      "        Reset Parameters :\n",
      "\t\t\n",
      "Unity brain name: BananaBrain\n",
      "        Number of Visual Observations (per agent): 0\n",
      "        Vector Observation space type: continuous\n",
      "        Vector Observation space size (per agent): 37\n",
      "        Number of stacked Vector Observation: 1\n",
      "        Vector Action space type: discrete\n",
      "        Vector Action space size (per agent): 4\n",
      "        Vector Action descriptions: , , , \n"
     ]
    },
    {
     "name": "stdout",
     "output_type": "stream",
     "text": [
      "2020-08-12 07:07:24,896 - unityagents - INFO - \n",
      "'Academy' started successfully!\n",
      "Unity Academy name: Academy\n",
      "        Number of Brains: 1\n",
      "        Number of External Brains : 1\n",
      "        Lesson number : 0\n",
      "        Reset Parameters :\n",
      "\t\t\n",
      "Unity brain name: BananaBrain\n",
      "        Number of Visual Observations (per agent): 0\n",
      "        Vector Observation space type: continuous\n",
      "        Vector Observation space size (per agent): 37\n",
      "        Number of stacked Vector Observation: 1\n",
      "        Vector Action space type: discrete\n",
      "        Vector Action space size (per agent): 4\n",
      "        Vector Action descriptions: , , , \n"
     ]
    }
   ],
   "source": [
    "scores, mean = experiment.play(\n",
    "    mode='train', # human, train\n",
    "    model='_experiments/train/banana-20200812T0605/banana_banana-20200812T0605_58_16.52_16.33_0.01.pth',\n",
    "    num_episodes=100)"
   ]
  },
  {
   "cell_type": "code",
   "execution_count": 18,
   "metadata": {},
   "outputs": [
    {
     "name": "stdout",
     "output_type": "stream",
     "text": [
      "Average score over 100 episodes is 16.51\n"
     ]
    }
   ],
   "source": [
    "print(\"Average score over {} episodes is {}\".format(len(scores), mean))"
   ]
  }
 ],
 "metadata": {
  "kernelspec": {
   "display_name": "drlnd3",
   "language": "python",
   "name": "drlnd3"
  },
  "language_info": {
   "codemirror_mode": {
    "name": "ipython",
    "version": 3
   },
   "file_extension": ".py",
   "mimetype": "text/x-python",
   "name": "python",
   "nbconvert_exporter": "python",
   "pygments_lexer": "ipython3",
   "version": "3.6.10"
  }
 },
 "nbformat": 4,
 "nbformat_minor": 4
}
