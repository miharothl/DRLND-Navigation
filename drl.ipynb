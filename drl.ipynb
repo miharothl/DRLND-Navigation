{
 "cells": [
  {
   "cell_type": "code",
   "execution_count": 1,
   "metadata": {},
   "outputs": [],
   "source": [
    "from config.config import get_env_config, get_app_config\n",
    "from dqn import logging\n",
    "from dqn.environment import Environment\n",
    "from dqn.logging import init_logging, set_logging_level, transform_verbose_count_to_logging_level\n",
    "import logging\n",
    "import logging.config\n",
    "from dqn.play import Play\n",
    "from dqn.train import Train"
   ]
  },
  {
   "cell_type": "code",
   "execution_count": 2,
   "metadata": {},
   "outputs": [],
   "source": [
    "config = get_env_config()\n",
    "environment = Environment(config)\n",
    "\n",
    "environment.set_env('cartpole')\n",
    "agent = environment.get_agent()\n",
    "env = environment.get_env()"
   ]
  },
  {
   "cell_type": "code",
   "execution_count": 3,
   "metadata": {},
   "outputs": [
    {
     "name": "stdout",
     "output_type": "stream",
     "text": [
      "lunarlander\n",
      "cartpole\n"
     ]
    }
   ],
   "source": [
    "environment.list_envs()"
   ]
  },
  {
   "cell_type": "code",
   "execution_count": null,
   "metadata": {},
   "outputs": [],
   "source": [
    "train = Train(model_id=environment.get_model_id())\n",
    "train.dqn(agent, env)"
   ]
  },
  {
   "cell_type": "code",
   "execution_count": 12,
   "metadata": {},
   "outputs": [
    {
     "name": "stdout",
     "output_type": "stream",
     "text": [
      "Selected model (max score): models/cartpolev1_20200710T0807_1400_266.99_0.01.pth\n"
     ]
    }
   ],
   "source": [
    "play = Play(model_id=environment.get_model_id(),\n",
    "                        env=env,\n",
    "                        agent=agent)\n",
    "\n",
    "play.play()\n",
    "# play.play(score_max=False, score_med=True)\n",
    "# play.play(score_max=False, score_med=False) \n",
    "env.close()"
   ]
  }
 ],
 "metadata": {
  "kernelspec": {
   "display_name": "drlnd",
   "language": "python",
   "name": "drlnd"
  },
  "language_info": {
   "codemirror_mode": {
    "name": "ipython",
    "version": 3
   },
   "file_extension": ".py",
   "mimetype": "text/x-python",
   "name": "python",
   "nbconvert_exporter": "python",
   "pygments_lexer": "ipython3",
   "version": "3.6.10"
  }
 },
 "nbformat": 4,
 "nbformat_minor": 2
}
