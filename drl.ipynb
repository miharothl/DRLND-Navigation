{
 "cells": [
  {
   "cell_type": "code",
   "execution_count": null,
   "metadata": {},
   "outputs": [],
   "source": [
    "from config.config import get_env_config, get_app_config\n",
    "from dqn import logging\n",
    "from dqn.environment import Environment\n",
    "from dqn.logging import init_logging, set_logging_level, transform_verbose_count_to_logging_level\n",
    "import logging\n",
    "import logging.config\n",
    "from dqn.play import Play\n",
    "from dqn.train import Train"
   ]
  },
  {
   "cell_type": "code",
   "execution_count": null,
   "metadata": {},
   "outputs": [],
   "source": [
    "config = get_env_config()\n",
    "environment = Environment(config)\n",
    "\n",
    "environment.set_env('cartpole')\n",
    "agent = environment.get_agent()\n",
    "env = environment.get_env()"
   ]
  },
  {
   "cell_type": "code",
   "execution_count": null,
   "metadata": {},
   "outputs": [],
   "source": [
    "environment.list_envs()"
   ]
  },
  {
   "cell_type": "code",
   "execution_count": null,
   "metadata": {},
   "outputs": [],
   "source": [
    "train = Train(model_id=environment.get_model_id())\n",
    "train.dqn(agent, env)"
   ]
  },
  {
   "cell_type": "code",
   "execution_count": null,
   "metadata": {},
   "outputs": [],
   "source": [
    "play = Play(model_id=environment.get_model_id(),\n",
    "                        env=env,\n",
    "                        agent=agent)\n",
    "\n",
    "play.play_plot()\n",
    "# play.play(score_max=False, score_med=True)\n",
    "# play.play(score_max=False, score_med=False) \n",
    "env.close()"
   ]
  },
  {
   "cell_type": "code",
   "execution_count": null,
   "metadata": {},
   "outputs": [],
   "source": [
    "env.close()"
   ]
  },
  {
   "cell_type": "code",
   "execution_count": null,
   "metadata": {},
   "outputs": [],
   "source": [
    "\n",
    "\n"
   ]
  },
  {
   "cell_type": "code",
   "execution_count": null,
   "metadata": {},
   "outputs": [],
   "source": [
    "display.stop()"
   ]
  }
 ],
 "metadata": {
  "kernelspec": {
   "display_name": "drlnd",
   "language": "python",
   "name": "drlnd"
  },
  "language_info": {
   "codemirror_mode": {
    "name": "ipython",
    "version": 3
   },
   "file_extension": ".py",
   "mimetype": "text/x-python",
   "name": "python",
   "nbconvert_exporter": "python",
   "pygments_lexer": "ipython3",
   "version": "3.6.10"
  }
 },
 "nbformat": 4,
 "nbformat_minor": 2
}
